{
 "cells": [
  {
   "cell_type": "code",
   "execution_count": 21,
   "metadata": {},
   "outputs": [
    {
     "name": "stdout",
     "output_type": "stream",
     "text": [
      "<Response [200]>\n",
      "b'\"0.5200439\"'\n"
     ]
    }
   ],
   "source": [
    "import requests\n",
    "\n",
    "# 定义HTTP接口的URL\n",
    "url = \"http://20.25.51.3:5556/cosine_score\"\n",
    "\n",
    "# 定义上传的文件\n",
    "files = {\n",
    "    \"wav_file\": open(\"Heeju.wav\", \"rb\"),\n",
    "    \"wav_file_1\":  open(\"Jiahui.wav\", \"rb\")\n",
    "}\n",
    "\n",
    "# 发送HTTP请求\n",
    "response = requests.post(url, files=files)\n",
    "\n",
    "# 打印响应结果\n",
    "print(response)\n",
    "print(response.content)"
   ]
  }
 ],
 "metadata": {
  "kernelspec": {
   "display_name": "base",
   "language": "python",
   "name": "python3"
  },
  "language_info": {
   "codemirror_mode": {
    "name": "ipython",
    "version": 3
   },
   "file_extension": ".py",
   "mimetype": "text/x-python",
   "name": "python",
   "nbconvert_exporter": "python",
   "pygments_lexer": "ipython3",
   "version": "3.10.9"
  },
  "orig_nbformat": 4
 },
 "nbformat": 4,
 "nbformat_minor": 2
}
